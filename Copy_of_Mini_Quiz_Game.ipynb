{
  "cells": [
    {
      "cell_type": "markdown",
      "metadata": {
        "id": "view-in-github",
        "colab_type": "text"
      },
      "source": [
        "<a href=\"https://colab.research.google.com/github/rashikapr/PythonMiniProject-1-Quiz/blob/main/Copy_of_Mini_Quiz_Game.ipynb\" target=\"_parent\"><img src=\"https://colab.research.google.com/assets/colab-badge.svg\" alt=\"Open In Colab\"/></a>"
      ]
    },
    {
      "cell_type": "code",
      "execution_count": null,
      "metadata": {
        "id": "pedSuTWag0f-"
      },
      "outputs": [],
      "source": [
        "import time  # To implement a timer for each question\n",
        "\n",
        "# List of questions with options and the correct answer\n",
        "questions = [\n",
        "    {\n",
        "        \"question\": \"What is the capital of France?\",\n",
        "        \"options\": [\"1. Paris\", \"2. London\", \"3. Berlin\", \"4. Madrid\"],\n",
        "        \"answer\": 1\n",
        "    },\n",
        "    {\n",
        "        \"question\": \"Which planet is known as the Red Planet?\",\n",
        "        \"options\": [\"1. Earth\", \"2. Mars\", \"3. Jupiter\", \"4. Venus\"],\n",
        "        \"answer\": 2\n",
        "    },\n",
        "    {\n",
        "        \"question\": \"Who wrote 'Romeo and Juliet'?\",\n",
        "        \"options\": [\"1. Charles Dickens\", \"2. William Shakespeare\", \"3. Jane Austen\", \"4. Mark Twain\"],\n",
        "        \"answer\": 2\n",
        "    },\n",
        "    {\n",
        "        \"question\": \"What is the smallest prime number?\",\n",
        "        \"options\": [\"1. 0\", \"2. 1\", \"3. 2\", \"4. 3\"],\n",
        "        \"answer\": 3\n",
        "    },\n",
        "    {\n",
        "        \"question\": \"What is the largest mammal in the world?\",\n",
        "        \"options\": [\"1. Elephant\", \"2. Blue Whale\", \"3. Giraffe\", \"4. Lion\"],\n",
        "        \"answer\": 2\n",
        "    },\n",
        "    {\n",
        "        \"question\": \"Which gas do plants absorb from the atmosphere?\",\n",
        "        \"options\": [\"1. Oxygen\", \"2. Carbon Dioxide\", \"3. Nitrogen\", \"4. Hydrogen\"],\n",
        "        \"answer\": 2\n",
        "    },\n",
        "    {\n",
        "        \"question\": \"What is the largest planet in our solar system?\",\n",
        "        \"options\": [\"1. Earth\", \"2. Mars\", \"3. Jupiter\", \"4. Venus\"],\n",
        "        \"answer\": 3\n",
        "    },\n",
        "    {\n",
        "        \"question\": \"Who painted the Mona Lisa?\",\n",
        "        \"options\": [\"1. Leonardo da Vinci\", \"2. Vincent van Gogh\", \"3. Michelangelo\", \"4. Pablo Picasso\"],\n",
        "        \"answer\": 1\n",
        "    },\n",
        "\n",
        "]"
      ]
    },
    {
      "cell_type": "code",
      "execution_count": null,
      "metadata": {
        "colab": {
          "background_save": true,
          "base_uri": "https://localhost:8080/"
        },
        "id": "Ue0sSqQig9ST",
        "outputId": "40594348-e454-41c9-c4eb-751478d4489d"
      },
      "outputs": [
        {
          "name": "stdout",
          "output_type": "stream",
          "text": [
            "Welcome to the Quiz Game!\n",
            "You have 10 seconds to answer each question.\n",
            "\n",
            "Question 1: What is the capital of France?\n",
            "1. Paris\n",
            "2. London\n",
            "3. Berlin\n",
            "4. Madrid\n",
            "Time's up! You took 10.92 seconds.\n",
            "Moving to the next question...\n",
            "\n",
            "Question 2: Which planet is known as the Red Planet?\n",
            "1. Earth\n",
            "2. Mars\n",
            "3. Jupiter\n",
            "4. Venus\n",
            "Wrong!\n",
            "\n",
            "Question 3: Who wrote 'Romeo and Juliet'?\n",
            "1. Charles Dickens\n",
            "2. William Shakespeare\n",
            "3. Jane Austen\n",
            "4. Mark Twain\n"
          ]
        }
      ],
      "source": [
        "def ask_question(question_data, question_number):\n",
        "    print(f\"\\nQuestion {question_number}: {question_data['question']}\")\n",
        "    for option in question_data['options']:\n",
        "        print(option)\n",
        "\n",
        "    # Timer starts\n",
        "    start_time = time.time()\n",
        "\n",
        "    try:\n",
        "        user_answer = int(input(\"\\nEnter the option number (1-4): \"))\n",
        "        if 1 <= user_answer <= 4:  # Check if the number is within the valid range\n",
        "            pass\n",
        "        else:\n",
        "            print(\"Invalid input! Please enter a number between 1 and 4.\")\n",
        "            return False, False\n",
        "\n",
        "\n",
        "    except ValueError:\n",
        "        print(\"Invalid input! Please enter a number between 1 and 4.\")\n",
        "        return False, False\n",
        "\n",
        "    # Timer ends\n",
        "    end_time = time.time()\n",
        "    elapsed_time = end_time - start_time\n",
        "\n",
        "    # Check if time exceeded 10 seconds\n",
        "    if elapsed_time > 10:\n",
        "        print(f\"Time's up! You took {elapsed_time:.2f} seconds.\")\n",
        "        return False, True\n",
        "\n",
        "    # Check the answer\n",
        "    if user_answer == question_data[\"answer\"]:\n",
        "        return True, False\n",
        "    else:\n",
        "        return False, False\n",
        "\n",
        "# Main function to run the quiz\n",
        "def quiz_game():\n",
        "    print(\"Welcome to the Quiz Game!\")\n",
        "    print(\"You have 10 seconds to answer each question.\")\n",
        "\n",
        "    score = 0  # Keep track of the score\n",
        "    total_questions = len(questions)\n",
        "\n",
        "    for i, question_data in enumerate(questions):\n",
        "        correct, timed_out = ask_question(question_data, i + 1)\n",
        "        if timed_out:\n",
        "            print(\"Moving to the next question...\")\n",
        "            continue\n",
        "        elif correct:\n",
        "            print(\"Correct!\")\n",
        "            score += 1\n",
        "        else:\n",
        "            print(\"Wrong!\")\n",
        "\n",
        "    print(f\"\\nQuiz Over! Your final score is {score}/{total_questions}\")\n",
        "\n",
        "# Run the game\n",
        "quiz_game()"
      ]
    }
  ],
  "metadata": {
    "colab": {
      "provenance": [],
      "authorship_tag": "ABX9TyPckDQPlPkQAdLZh8TuptE2",
      "include_colab_link": true
    },
    "kernelspec": {
      "display_name": "Python 3",
      "name": "python3"
    },
    "language_info": {
      "name": "python"
    }
  },
  "nbformat": 4,
  "nbformat_minor": 0
}